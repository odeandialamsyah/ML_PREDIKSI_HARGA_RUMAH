{
  "nbformat": 4,
  "nbformat_minor": 0,
  "metadata": {
    "colab": {
      "provenance": [],
      "authorship_tag": "ABX9TyNtFxYM8hOF3QTdGx38EAQ9",
      "include_colab_link": true
    },
    "kernelspec": {
      "name": "python3",
      "display_name": "Python 3"
    },
    "language_info": {
      "name": "python"
    }
  },
  "cells": [
    {
      "cell_type": "markdown",
      "metadata": {
        "id": "view-in-github",
        "colab_type": "text"
      },
      "source": [
        "<a href=\"https://colab.research.google.com/github/odeandialamsyah/ML_PREDIKSI_HARGA_RUMAH/blob/main/PREDIKSI_HARGA_RUMAH.ipynb\" target=\"_parent\"><img src=\"https://colab.research.google.com/assets/colab-badge.svg\" alt=\"Open In Colab\"/></a>"
      ]
    },
    {
      "cell_type": "code",
      "execution_count": null,
      "metadata": {
        "colab": {
          "base_uri": "https://localhost:8080/"
        },
        "id": "PH6eHSlTvLHB",
        "outputId": "2d958ccf-a4f8-4009-d298-6a29d7d9d8f7"
      },
      "outputs": [
        {
          "output_type": "stream",
          "name": "stdout",
          "text": [
            "Data rumah yang tersedia:\n",
            "   NO                                         NAMA RUMAH       HARGA   LB  \\\n",
            "0   1  Rumah Murah Hook Tebet Timur, Tebet, Jakarta S...  3800000000  220   \n",
            "1   2  Rumah Modern di Tebet dekat Stasiun, Tebet, Ja...  4600000000  180   \n",
            "2   3  Rumah Mewah 2 Lantai Hanya 3 Menit Ke Tebet, T...  3000000000  267   \n",
            "3   4           Rumah Baru Tebet, Tebet, Jakarta Selatan   430000000   40   \n",
            "4   5  Rumah Bagus Tebet komp Gudang Peluru lt 350m, ...  9000000000  400   \n",
            "\n",
            "    LT  KT  KM  GRS  \n",
            "0  220   3   3    0  \n",
            "1  137   4   3    2  \n",
            "2  250   4   4    4  \n",
            "3   25   2   2    0  \n",
            "4  355   6   5    3  \n",
            "\n",
            "Evaluasi Model:\n",
            "Mean Absolute Error (MAE): 1980345761.15\n",
            "Mean Squared Error (MSE): 10675729074057431040.00\n",
            "Root Mean Squared Error (RMSE): 3267373421.28\n",
            "R-squared (R2): 0.77\n",
            "\n",
            "Masukkan data rumah untuk prediksi harga:\n",
            "Luas Bangunan (m2): 100\n",
            "Luas Tanah (m2): 120\n",
            "Jumlah Kamar Tidur: 3\n",
            "Jumlah Kamar Mandi: 4\n",
            "Jumlah Garasi: 1\n",
            "\n",
            "Hasil Prediksi:\n",
            "Berdasarkan data yang dimasukkan:\n",
            "- Luas Bangunan: 100.0 m2\n",
            "- Luas Tanah: 120.0 m2\n",
            "- Jumlah Kamar Tidur: 3\n",
            "- Jumlah Kamar Mandi: 4\n",
            "- Jumlah Garasi: 1\n",
            "Prediksi Harga Rumah: Rp 3,802,973,535.44\n"
          ]
        },
        {
          "output_type": "stream",
          "name": "stderr",
          "text": [
            "/usr/local/lib/python3.11/dist-packages/sklearn/utils/validation.py:2739: UserWarning: X does not have valid feature names, but LinearRegression was fitted with feature names\n",
            "  warnings.warn(\n"
          ]
        }
      ],
      "source": [
        "import numpy as np\n",
        "import pandas as pd\n",
        "from sklearn.model_selection import train_test_split\n",
        "from sklearn.linear_model import LinearRegression\n",
        "from sklearn.metrics import mean_absolute_error, mean_squared_error, r2_score\n",
        "\n",
        "# 1. Membaca dataset dari file XLSX (pastikan dataset tersedia)\n",
        "dataset_path = \"DATARUMAH.xlsx\"  # Ganti dengan path file dataset\n",
        "house_df = pd.read_excel(dataset_path)\n",
        "\n",
        "# 2. Menampilkan beberapa data awal untuk verifikasi\n",
        "print(\"Data rumah yang tersedia:\")\n",
        "print(house_df.head())\n",
        "\n",
        "# 3. Memilih fitur (X) dan target (y)\n",
        "X = house_df[['LB', 'LT', 'KT', 'KM', 'GRS']]  # Fitur (Luas Bangunan, Luas Tanah, Kamar Tidur, Kamar Mandi, Garasi)\n",
        "y = house_df['HARGA']  # Target (Harga Rumah)\n",
        "\n",
        "# 4. Membagi dataset menjadi training dan testing\n",
        "X_train, X_test, y_train, y_test = train_test_split(X, y, test_size=0.2, random_state=42)\n",
        "\n",
        "# 5. Membuat dan melatih model regresi\n",
        "model = LinearRegression()\n",
        "model.fit(X_train, y_train)\n",
        "\n",
        "# 6. Memprediksi harga rumah\n",
        "y_pred = model.predict(X_test)\n",
        "\n",
        "# 7. Evaluasi model\n",
        "mae = mean_absolute_error(y_test, y_pred)\n",
        "mse = mean_squared_error(y_test, y_pred)\n",
        "rmse = np.sqrt(mse)\n",
        "r2 = r2_score(y_test, y_pred)\n",
        "\n",
        "print(\"\\nEvaluasi Model:\")\n",
        "print(f'Mean Absolute Error (MAE): {mae:.2f}')\n",
        "print(f'Mean Squared Error (MSE): {mse:.2f}')\n",
        "print(f'Root Mean Squared Error (RMSE): {rmse:.2f}')\n",
        "print(f'R-squared (R2): {r2:.2f}')\n",
        "\n",
        "# 8. Input dari pengguna\n",
        "print(\"\\nMasukkan data rumah untuk prediksi harga:\")\n",
        "luas_bangunan = float(input(\"Luas Bangunan (m2): \"))\n",
        "luas_tanah = float(input(\"Luas Tanah (m2): \"))\n",
        "jumlah_kamar_tidur = int(input(\"Jumlah Kamar Tidur: \"))\n",
        "jumlah_kamar_mandi = int(input(\"Jumlah Kamar Mandi: \"))\n",
        "jumlah_garasi = int(input(\"Jumlah Garasi: \"))\n",
        "\n",
        "# 9. Prediksi harga rumah berdasarkan input pengguna\n",
        "sample_data = np.array([[luas_bangunan, luas_tanah, jumlah_kamar_tidur, jumlah_kamar_mandi, jumlah_garasi]])\n",
        "predicted_price = model.predict(sample_data)\n",
        "\n",
        "print(\"\\nHasil Prediksi:\")\n",
        "print(f'Berdasarkan data yang dimasukkan:')\n",
        "print(f'- Luas Bangunan: {luas_bangunan} m2')\n",
        "print(f'- Luas Tanah: {luas_tanah} m2')\n",
        "print(f'- Jumlah Kamar Tidur: {jumlah_kamar_tidur}')\n",
        "print(f'- Jumlah Kamar Mandi: {jumlah_kamar_mandi}')\n",
        "print(f'- Jumlah Garasi: {jumlah_garasi}')\n",
        "print(f'Prediksi Harga Rumah: Rp {predicted_price[0]:,.2f}')\n"
      ]
    }
  ]
}